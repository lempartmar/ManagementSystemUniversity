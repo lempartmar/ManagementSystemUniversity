﻿{
    "metadata": {
        "kernelspec": {
            "name": "SQL",
            "display_name": "SQL",
            "language": "sql"
        },
        "language_info": {
            "name": "sql",
            "version": ""
        },
        "kernel_spec": {
            "name": "SQL",
            "language": "sql",
            "display_name": "SQL"
        },
        "extensions": {
            "azuredatastudio": {
                "version": 1,
                "views": []
            }
        }
    },
    "nbformat_minor": 2,
    "nbformat": 4,
    "cells": [
        {
            "cell_type": "markdown",
            "source": [
                "# [PraceDyplomowe_BazyDanych]"
            ],
            "metadata": {
                "urn": "Server[@Name='DESKTOP-8FBCEN1\\SQLEXPRESS']/Database[@Name='PraceDyplomowe_BazyDanych']",
                "object_type": "Database",
                "extensions": {
                    "azuredatastudio": {
                        "views": []
                    }
                },
                "azdata_cell_guid": "fdb20560-e551-43f1-93b7-0d3e6f192095"
            }
        },
        {
            "cell_type": "code",
            "source": [
                "USE [master]\r\n",
                "GO\r\n"
            ],
            "metadata": {
                "urn": "Server[@Name='DESKTOP-8FBCEN1\\SQLEXPRESS']/Database[@Name='PraceDyplomowe_BazyDanych']",
                "object_type": "Database",
                "extensions": {
                    "azuredatastudio": {
                        "views": []
                    }
                },
                "azdata_cell_guid": "11a0b1c2-c554-45c2-95d3-a02b0601983e"
            },
            "outputs": [],
            "execution_count": null
        },
        {
            "cell_type": "code",
            "source": [
                "/****** Object:  Database [PraceDyplomowe_BazyDanych]    Script Date: 26.01.2022 04:25:24 ******/\r\nCREATE DATABASE [PraceDyplomowe_BazyDanych]\r\n CONTAINMENT = NONE\r\n ON  PRIMARY \r\n( NAME = N'PraceDyplomowe_BazyDanych', FILENAME = N'C:\\Program Files\\Microsoft SQL Server\\MSSQL15.SQLEXPRESS\\MSSQL\\DATA\\PraceDyplomowe_BazyDanych.mdf' , SIZE = 8192KB , MAXSIZE = UNLIMITED, FILEGROWTH = 65536KB )\r\n LOG ON \r\n( NAME = N'PraceDyplomowe_BazyDanych_log', FILENAME = N'C:\\Program Files\\Microsoft SQL Server\\MSSQL15.SQLEXPRESS\\MSSQL\\DATA\\PraceDyplomowe_BazyDanych_log.ldf' , SIZE = 8192KB , MAXSIZE = 2048GB , FILEGROWTH = 65536KB )\r\n WITH CATALOG_COLLATION = DATABASE_DEFAULT\r\n",
                "GO\r\n",
                "ALTER DATABASE [PraceDyplomowe_BazyDanych] SET COMPATIBILITY_LEVEL = 150\r\n",
                "GO\r\n",
                "IF (1 = FULLTEXTSERVICEPROPERTY('IsFullTextInstalled'))\r\nbegin\r\nEXEC [PraceDyplomowe_BazyDanych].[dbo].[sp_fulltext_database] @action = 'enable'\r\nend\r\n",
                "GO\r\n",
                "ALTER DATABASE [PraceDyplomowe_BazyDanych] SET ANSI_NULL_DEFAULT OFF \r\n",
                "GO\r\n",
                "ALTER DATABASE [PraceDyplomowe_BazyDanych] SET ANSI_NULLS OFF \r\n",
                "GO\r\n",
                "ALTER DATABASE [PraceDyplomowe_BazyDanych] SET ANSI_PADDING OFF \r\n",
                "GO\r\n",
                "ALTER DATABASE [PraceDyplomowe_BazyDanych] SET ANSI_WARNINGS OFF \r\n",
                "GO\r\n",
                "ALTER DATABASE [PraceDyplomowe_BazyDanych] SET ARITHABORT OFF \r\n",
                "GO\r\n",
                "ALTER DATABASE [PraceDyplomowe_BazyDanych] SET AUTO_CLOSE OFF \r\n",
                "GO\r\n",
                "ALTER DATABASE [PraceDyplomowe_BazyDanych] SET AUTO_SHRINK OFF \r\n",
                "GO\r\n",
                "ALTER DATABASE [PraceDyplomowe_BazyDanych] SET AUTO_UPDATE_STATISTICS ON \r\n",
                "GO\r\n",
                "ALTER DATABASE [PraceDyplomowe_BazyDanych] SET CURSOR_CLOSE_ON_COMMIT OFF \r\n",
                "GO\r\n",
                "ALTER DATABASE [PraceDyplomowe_BazyDanych] SET CURSOR_DEFAULT  GLOBAL \r\n",
                "GO\r\n",
                "ALTER DATABASE [PraceDyplomowe_BazyDanych] SET CONCAT_NULL_YIELDS_NULL OFF \r\n",
                "GO\r\n",
                "ALTER DATABASE [PraceDyplomowe_BazyDanych] SET NUMERIC_ROUNDABORT OFF \r\n",
                "GO\r\n",
                "ALTER DATABASE [PraceDyplomowe_BazyDanych] SET QUOTED_IDENTIFIER OFF \r\n",
                "GO\r\n",
                "ALTER DATABASE [PraceDyplomowe_BazyDanych] SET RECURSIVE_TRIGGERS OFF \r\n",
                "GO\r\n",
                "ALTER DATABASE [PraceDyplomowe_BazyDanych] SET  DISABLE_BROKER \r\n",
                "GO\r\n",
                "ALTER DATABASE [PraceDyplomowe_BazyDanych] SET AUTO_UPDATE_STATISTICS_ASYNC OFF \r\n",
                "GO\r\n",
                "ALTER DATABASE [PraceDyplomowe_BazyDanych] SET DATE_CORRELATION_OPTIMIZATION OFF \r\n",
                "GO\r\n",
                "ALTER DATABASE [PraceDyplomowe_BazyDanych] SET TRUSTWORTHY OFF \r\n",
                "GO\r\n",
                "ALTER DATABASE [PraceDyplomowe_BazyDanych] SET ALLOW_SNAPSHOT_ISOLATION OFF \r\n",
                "GO\r\n",
                "ALTER DATABASE [PraceDyplomowe_BazyDanych] SET PARAMETERIZATION SIMPLE \r\n",
                "GO\r\n",
                "ALTER DATABASE [PraceDyplomowe_BazyDanych] SET READ_COMMITTED_SNAPSHOT OFF \r\n",
                "GO\r\n",
                "ALTER DATABASE [PraceDyplomowe_BazyDanych] SET HONOR_BROKER_PRIORITY OFF \r\n",
                "GO\r\n",
                "ALTER DATABASE [PraceDyplomowe_BazyDanych] SET RECOVERY SIMPLE \r\n",
                "GO\r\n",
                "ALTER DATABASE [PraceDyplomowe_BazyDanych] SET  MULTI_USER \r\n",
                "GO\r\n",
                "ALTER DATABASE [PraceDyplomowe_BazyDanych] SET PAGE_VERIFY CHECKSUM  \r\n",
                "GO\r\n",
                "ALTER DATABASE [PraceDyplomowe_BazyDanych] SET DB_CHAINING OFF \r\n",
                "GO\r\n",
                "ALTER DATABASE [PraceDyplomowe_BazyDanych] SET FILESTREAM( NON_TRANSACTED_ACCESS = OFF ) \r\n",
                "GO\r\n",
                "ALTER DATABASE [PraceDyplomowe_BazyDanych] SET TARGET_RECOVERY_TIME = 60 SECONDS \r\n",
                "GO\r\n",
                "ALTER DATABASE [PraceDyplomowe_BazyDanych] SET DELAYED_DURABILITY = DISABLED \r\n",
                "GO\r\n",
                "ALTER DATABASE [PraceDyplomowe_BazyDanych] SET ACCELERATED_DATABASE_RECOVERY = OFF  \r\n",
                "GO\r\n",
                "ALTER DATABASE [PraceDyplomowe_BazyDanych] SET QUERY_STORE = OFF\r\n",
                "GO\r\n"
            ],
            "metadata": {
                "urn": "Server[@Name='DESKTOP-8FBCEN1\\SQLEXPRESS']/Database[@Name='PraceDyplomowe_BazyDanych']",
                "object_type": "Database",
                "extensions": {
                    "azuredatastudio": {
                        "views": []
                    }
                },
                "azdata_cell_guid": "65025ada-6ff6-4670-aceb-7e7e766d64b0"
            },
            "outputs": [],
            "execution_count": null
        },
        {
            "cell_type": "markdown",
            "source": [
                "# [dbo].[AutorPracy]"
            ],
            "metadata": {
                "urn": "Server[@Name='DESKTOP-8FBCEN1\\SQLEXPRESS']/Database[@Name='PraceDyplomowe_BazyDanych']/Table[@Name='AutorPracy' and @Schema='dbo']",
                "object_type": "Table",
                "extensions": {
                    "azuredatastudio": {
                        "views": []
                    }
                },
                "azdata_cell_guid": "cf6023e5-5730-4917-b180-af317bf1ae95"
            }
        },
        {
            "cell_type": "code",
            "source": [
                "USE [PraceDyplomowe_BazyDanych]\r\n",
                "GO\r\n"
            ],
            "metadata": {
                "urn": "Server[@Name='DESKTOP-8FBCEN1\\SQLEXPRESS']/Database[@Name='PraceDyplomowe_BazyDanych']/Table[@Name='AutorPracy' and @Schema='dbo']",
                "object_type": "Table",
                "extensions": {
                    "azuredatastudio": {
                        "views": []
                    }
                },
                "azdata_cell_guid": "f28c82c0-4ac6-41aa-b5a2-d4511f3b70eb"
            },
            "outputs": [],
            "execution_count": null
        },
        {
            "cell_type": "code",
            "source": [
                "/****** Object:  Table [dbo].[AutorPracy]    Script Date: 26.01.2022 04:25:25 ******/\r\nSET ANSI_NULLS ON\r\n",
                "GO\r\n",
                "SET QUOTED_IDENTIFIER ON\r\n",
                "GO\r\n",
                "CREATE TABLE [dbo].[AutorPracy](\r\n\t[ID_AutorPracy] [int] IDENTITY(1,1) NOT NULL,\r\n\t[ID_Student] [int] NOT NULL,\r\n\t[NotatkiDziekanatu] [int] NULL,\r\n\t[OcenaZObrony] [int] NULL,\r\n\t[ID_PracaDyplomowa] [int] NULL,\r\n\t[DodatkoweInformacje] [varchar](max) NULL,\r\n\t[DataObrony] [date] NULL,\r\n\t[ID_PrzewodniczacyKomisji] [int] NULL,\r\n CONSTRAINT [PK_AutorPracy] PRIMARY KEY CLUSTERED \r\n(\r\n\t[ID_AutorPracy] ASC\r\n)WITH (PAD_INDEX = OFF, STATISTICS_NORECOMPUTE = OFF, IGNORE_DUP_KEY = OFF, ALLOW_ROW_LOCKS = ON, ALLOW_PAGE_LOCKS = ON, OPTIMIZE_FOR_SEQUENTIAL_KEY = OFF) ON [PRIMARY]\r\n) ON [PRIMARY] TEXTIMAGE_ON [PRIMARY]\r\nGO\r\n"
            ],
            "metadata": {
                "urn": "Server[@Name='DESKTOP-8FBCEN1\\SQLEXPRESS']/Database[@Name='PraceDyplomowe_BazyDanych']/Table[@Name='AutorPracy' and @Schema='dbo']",
                "object_type": "Table",
                "extensions": {
                    "azuredatastudio": {
                        "views": []
                    }
                },
                "azdata_cell_guid": "d2fd5aa8-3569-473e-bac5-bccf2de07f0e"
            },
            "outputs": [],
            "execution_count": null
        },
        {
            "cell_type": "markdown",
            "source": [
                "# [dbo].[Katedra]"
            ],
            "metadata": {
                "urn": "Server[@Name='DESKTOP-8FBCEN1\\SQLEXPRESS']/Database[@Name='PraceDyplomowe_BazyDanych']/Table[@Name='Katedra' and @Schema='dbo']",
                "object_type": "Table",
                "extensions": {
                    "azuredatastudio": {
                        "views": []
                    }
                },
                "azdata_cell_guid": "ba2eb459-51de-4c05-a95c-650394881d31"
            }
        },
        {
            "cell_type": "code",
            "source": [
                "/****** Object:  Table [dbo].[Katedra]    Script Date: 26.01.2022 04:25:25 ******/\r\nSET ANSI_NULLS ON\r\n",
                "GO\r\n",
                "SET QUOTED_IDENTIFIER ON\r\n",
                "GO\r\n",
                "CREATE TABLE [dbo].[Katedra](\r\n\t[ID_Katedra] [int] IDENTITY(1,1) NOT NULL,\r\n\t[NazwaKatedry] [varchar](50) NOT NULL,\r\n CONSTRAINT [PK_Katedra] PRIMARY KEY CLUSTERED \r\n(\r\n\t[ID_Katedra] ASC\r\n)WITH (PAD_INDEX = OFF, STATISTICS_NORECOMPUTE = OFF, IGNORE_DUP_KEY = OFF, ALLOW_ROW_LOCKS = ON, ALLOW_PAGE_LOCKS = ON, OPTIMIZE_FOR_SEQUENTIAL_KEY = OFF) ON [PRIMARY]\r\n) ON [PRIMARY]\r\nGO\r\n"
            ],
            "metadata": {
                "urn": "Server[@Name='DESKTOP-8FBCEN1\\SQLEXPRESS']/Database[@Name='PraceDyplomowe_BazyDanych']/Table[@Name='Katedra' and @Schema='dbo']",
                "object_type": "Table",
                "extensions": {
                    "azuredatastudio": {
                        "views": []
                    }
                },
                "azdata_cell_guid": "97f3cf16-e3bc-4f32-954b-f840889ec980"
            },
            "outputs": [],
            "execution_count": null
        },
        {
            "cell_type": "markdown",
            "source": [
                "# [dbo].[KierunekStudiów]"
            ],
            "metadata": {
                "urn": "Server[@Name='DESKTOP-8FBCEN1\\SQLEXPRESS']/Database[@Name='PraceDyplomowe_BazyDanych']/Table[@Name='KierunekStudiów' and @Schema='dbo']",
                "object_type": "Table",
                "extensions": {
                    "azuredatastudio": {
                        "views": []
                    }
                },
                "azdata_cell_guid": "4f9bb344-697d-47d0-af8f-30e89781d5e4"
            }
        },
        {
            "cell_type": "code",
            "source": [
                "/****** Object:  Table [dbo].[KierunekStudiów]    Script Date: 26.01.2022 04:25:25 ******/\r\nSET ANSI_NULLS ON\r\n",
                "GO\r\n",
                "SET QUOTED_IDENTIFIER ON\r\n",
                "GO\r\n",
                "CREATE TABLE [dbo].[KierunekStudiów](\r\n\t[ID_Kierunek_Studiów] [int] IDENTITY(1,1) NOT NULL,\r\n\t[Nazwa_Kierunku] [varchar](50) NOT NULL,\r\n CONSTRAINT [PK_KierunekStudiów] PRIMARY KEY CLUSTERED \r\n(\r\n\t[ID_Kierunek_Studiów] ASC\r\n)WITH (PAD_INDEX = OFF, STATISTICS_NORECOMPUTE = OFF, IGNORE_DUP_KEY = OFF, ALLOW_ROW_LOCKS = ON, ALLOW_PAGE_LOCKS = ON, OPTIMIZE_FOR_SEQUENTIAL_KEY = OFF) ON [PRIMARY],\r\n CONSTRAINT [C_Nazwa] UNIQUE NONCLUSTERED \r\n(\r\n\t[Nazwa_Kierunku] ASC\r\n)WITH (PAD_INDEX = OFF, STATISTICS_NORECOMPUTE = OFF, IGNORE_DUP_KEY = OFF, ALLOW_ROW_LOCKS = ON, ALLOW_PAGE_LOCKS = ON, OPTIMIZE_FOR_SEQUENTIAL_KEY = OFF) ON [PRIMARY]\r\n) ON [PRIMARY]\r\nGO\r\n"
            ],
            "metadata": {
                "urn": "Server[@Name='DESKTOP-8FBCEN1\\SQLEXPRESS']/Database[@Name='PraceDyplomowe_BazyDanych']/Table[@Name='KierunekStudiów' and @Schema='dbo']",
                "object_type": "Table",
                "extensions": {
                    "azuredatastudio": {
                        "views": []
                    }
                },
                "azdata_cell_guid": "0071031a-367e-4e0e-89ff-6789b2a5da39"
            },
            "outputs": [],
            "execution_count": null
        },
        {
            "cell_type": "markdown",
            "source": [
                "# [dbo].[NaukowyStopien]"
            ],
            "metadata": {
                "urn": "Server[@Name='DESKTOP-8FBCEN1\\SQLEXPRESS']/Database[@Name='PraceDyplomowe_BazyDanych']/Table[@Name='NaukowyStopien' and @Schema='dbo']",
                "object_type": "Table",
                "extensions": {
                    "azuredatastudio": {
                        "views": []
                    }
                },
                "azdata_cell_guid": "b586e2c1-c0c2-4459-9fb1-70c7908811af"
            }
        },
        {
            "cell_type": "code",
            "source": [
                "/****** Object:  Table [dbo].[NaukowyStopien]    Script Date: 26.01.2022 04:25:25 ******/\r\nSET ANSI_NULLS ON\r\n",
                "GO\r\n",
                "SET QUOTED_IDENTIFIER ON\r\n",
                "GO\r\n",
                "CREATE TABLE [dbo].[NaukowyStopien](\r\n\t[ID_StopieNaukowy] [int] IDENTITY(1,1) NOT NULL,\r\n\t[StopienNaukowy] [varchar](50) NOT NULL,\r\n CONSTRAINT [PK_NaukowyStopien] PRIMARY KEY CLUSTERED \r\n(\r\n\t[ID_StopieNaukowy] ASC\r\n)WITH (PAD_INDEX = OFF, STATISTICS_NORECOMPUTE = OFF, IGNORE_DUP_KEY = OFF, ALLOW_ROW_LOCKS = ON, ALLOW_PAGE_LOCKS = ON, OPTIMIZE_FOR_SEQUENTIAL_KEY = OFF) ON [PRIMARY]\r\n) ON [PRIMARY]\r\nGO\r\n"
            ],
            "metadata": {
                "urn": "Server[@Name='DESKTOP-8FBCEN1\\SQLEXPRESS']/Database[@Name='PraceDyplomowe_BazyDanych']/Table[@Name='NaukowyStopien' and @Schema='dbo']",
                "object_type": "Table",
                "extensions": {
                    "azuredatastudio": {
                        "views": []
                    }
                },
                "azdata_cell_guid": "e6c684e3-a574-4d7f-8aa3-c8c165ff8823"
            },
            "outputs": [],
            "execution_count": null
        },
        {
            "cell_type": "markdown",
            "source": [
                "# [dbo].[PracaDyplomowa]"
            ],
            "metadata": {
                "urn": "Server[@Name='DESKTOP-8FBCEN1\\SQLEXPRESS']/Database[@Name='PraceDyplomowe_BazyDanych']/Table[@Name='PracaDyplomowa' and @Schema='dbo']",
                "object_type": "Table",
                "extensions": {
                    "azuredatastudio": {
                        "views": []
                    }
                },
                "azdata_cell_guid": "3070a91a-497a-4377-bc3d-f26c4432e913"
            }
        },
        {
            "cell_type": "code",
            "source": [
                "/****** Object:  Table [dbo].[PracaDyplomowa]    Script Date: 26.01.2022 04:25:25 ******/\r\nSET ANSI_NULLS ON\r\n",
                "GO\r\n",
                "SET QUOTED_IDENTIFIER ON\r\n",
                "GO\r\n",
                "CREATE TABLE [dbo].[PracaDyplomowa](\r\n\t[ID_PracaDyplomowa] [int] IDENTITY(1,1) NOT NULL,\r\n\t[TematPracy] [varchar](max) NOT NULL,\r\n\t[ID_Promotor] [int] NULL,\r\n\t[ID_Recenzent] [int] NULL,\r\n\t[ID_RodzajStudiow] [int] NULL,\r\n CONSTRAINT [PK_PracaDyplomowa] PRIMARY KEY CLUSTERED \r\n(\r\n\t[ID_PracaDyplomowa] ASC\r\n)WITH (PAD_INDEX = OFF, STATISTICS_NORECOMPUTE = OFF, IGNORE_DUP_KEY = OFF, ALLOW_ROW_LOCKS = ON, ALLOW_PAGE_LOCKS = ON, OPTIMIZE_FOR_SEQUENTIAL_KEY = OFF) ON [PRIMARY]\r\n) ON [PRIMARY] TEXTIMAGE_ON [PRIMARY]\r\nGO\r\n"
            ],
            "metadata": {
                "urn": "Server[@Name='DESKTOP-8FBCEN1\\SQLEXPRESS']/Database[@Name='PraceDyplomowe_BazyDanych']/Table[@Name='PracaDyplomowa' and @Schema='dbo']",
                "object_type": "Table",
                "extensions": {
                    "azuredatastudio": {
                        "views": []
                    }
                },
                "azdata_cell_guid": "b95d8993-e127-49ac-a819-e8ac652cb16d"
            },
            "outputs": [],
            "execution_count": null
        },
        {
            "cell_type": "markdown",
            "source": [
                "# [dbo].[PracownikNaukowy]"
            ],
            "metadata": {
                "urn": "Server[@Name='DESKTOP-8FBCEN1\\SQLEXPRESS']/Database[@Name='PraceDyplomowe_BazyDanych']/Table[@Name='PracownikNaukowy' and @Schema='dbo']",
                "object_type": "Table",
                "extensions": {
                    "azuredatastudio": {
                        "views": []
                    }
                },
                "azdata_cell_guid": "ad4f8a73-a1df-4121-bf4a-bca42b2ea04b"
            }
        },
        {
            "cell_type": "code",
            "source": [
                "/****** Object:  Table [dbo].[PracownikNaukowy]    Script Date: 26.01.2022 04:25:25 ******/\r\nSET ANSI_NULLS ON\r\n",
                "GO\r\n",
                "SET QUOTED_IDENTIFIER ON\r\n",
                "GO\r\n",
                "CREATE TABLE [dbo].[PracownikNaukowy](\r\n\t[ID_PracownikNaukowy] [int] IDENTITY(1,1) NOT NULL,\r\n\t[Pracownik_Imie] [varchar](50) NOT NULL,\r\n\t[Pracownik_Nazwisko] [varchar](50) NOT NULL,\r\n\t[ID_Katedra] [int] NOT NULL,\r\n\t[Adres_email] [varchar](50) NOT NULL,\r\n\t[ID_StopienNaukowy] [int] NOT NULL,\r\n CONSTRAINT [PK_PracownikNaukowy] PRIMARY KEY CLUSTERED \r\n(\r\n\t[ID_PracownikNaukowy] ASC\r\n)WITH (PAD_INDEX = OFF, STATISTICS_NORECOMPUTE = OFF, IGNORE_DUP_KEY = OFF, ALLOW_ROW_LOCKS = ON, ALLOW_PAGE_LOCKS = ON, OPTIMIZE_FOR_SEQUENTIAL_KEY = OFF) ON [PRIMARY]\r\n) ON [PRIMARY]\r\nGO\r\n"
            ],
            "metadata": {
                "urn": "Server[@Name='DESKTOP-8FBCEN1\\SQLEXPRESS']/Database[@Name='PraceDyplomowe_BazyDanych']/Table[@Name='PracownikNaukowy' and @Schema='dbo']",
                "object_type": "Table",
                "extensions": {
                    "azuredatastudio": {
                        "views": []
                    }
                },
                "azdata_cell_guid": "32cac149-ba51-4475-95a5-ceef9c2d357a"
            },
            "outputs": [],
            "execution_count": null
        },
        {
            "cell_type": "markdown",
            "source": [
                "# [dbo].[Promotor]"
            ],
            "metadata": {
                "urn": "Server[@Name='DESKTOP-8FBCEN1\\SQLEXPRESS']/Database[@Name='PraceDyplomowe_BazyDanych']/Table[@Name='Promotor' and @Schema='dbo']",
                "object_type": "Table",
                "extensions": {
                    "azuredatastudio": {
                        "views": []
                    }
                },
                "azdata_cell_guid": "ebb7748c-8e11-4a6f-bb4a-34c5444a6863"
            }
        },
        {
            "cell_type": "code",
            "source": [
                "/****** Object:  Table [dbo].[Promotor]    Script Date: 26.01.2022 04:25:25 ******/\r\nSET ANSI_NULLS ON\r\n",
                "GO\r\n",
                "SET QUOTED_IDENTIFIER ON\r\n",
                "GO\r\n",
                "CREATE TABLE [dbo].[Promotor](\r\n\t[ID_Promotor] [int] NOT NULL,\r\n\t[Ocena] [int] NOT NULL,\r\n\t[ID_PracaDyplomowa] [int] NOT NULL,\r\n\t[OpiniaPracaPromotora] [varchar](50) NOT NULL,\r\n\t[OpiniaPromotoraoStudencie] [varchar](50) NOT NULL,\r\n\t[OpisPracySeminaryjnej] [varchar](50) NOT NULL,\r\n\t[ID_PracownikNaukowy] [int] NULL,\r\n CONSTRAINT [PK_Promotor] PRIMARY KEY CLUSTERED \r\n(\r\n\t[ID_Promotor] ASC\r\n)WITH (PAD_INDEX = OFF, STATISTICS_NORECOMPUTE = OFF, IGNORE_DUP_KEY = OFF, ALLOW_ROW_LOCKS = ON, ALLOW_PAGE_LOCKS = ON, OPTIMIZE_FOR_SEQUENTIAL_KEY = OFF) ON [PRIMARY]\r\n) ON [PRIMARY]\r\nGO\r\n"
            ],
            "metadata": {
                "urn": "Server[@Name='DESKTOP-8FBCEN1\\SQLEXPRESS']/Database[@Name='PraceDyplomowe_BazyDanych']/Table[@Name='Promotor' and @Schema='dbo']",
                "object_type": "Table",
                "extensions": {
                    "azuredatastudio": {
                        "views": []
                    }
                },
                "azdata_cell_guid": "3f8fe0f3-50a8-4fcf-b25a-c34621fe3ad6"
            },
            "outputs": [],
            "execution_count": null
        },
        {
            "cell_type": "markdown",
            "source": [
                "# [dbo].[Recenzent]"
            ],
            "metadata": {
                "urn": "Server[@Name='DESKTOP-8FBCEN1\\SQLEXPRESS']/Database[@Name='PraceDyplomowe_BazyDanych']/Table[@Name='Recenzent' and @Schema='dbo']",
                "object_type": "Table",
                "extensions": {
                    "azuredatastudio": {
                        "views": []
                    }
                },
                "azdata_cell_guid": "e977730b-c69e-4b07-8378-3f61fbd16031"
            }
        },
        {
            "cell_type": "code",
            "source": [
                "/****** Object:  Table [dbo].[Recenzent]    Script Date: 26.01.2022 04:25:25 ******/\r\nSET ANSI_NULLS ON\r\n",
                "GO\r\n",
                "SET QUOTED_IDENTIFIER ON\r\n",
                "GO\r\n",
                "CREATE TABLE [dbo].[Recenzent](\r\n\t[ID_Recenzent] [int] IDENTITY(1,1) NOT NULL,\r\n\t[Ocena] [int] NULL,\r\n\t[ID_PracaDyplomowa] [int] NOT NULL,\r\n\t[OpiniaPracaRecenzent] [varchar](50) NULL,\r\n\t[ID_PracownikNaukowy] [int] NULL,\r\n CONSTRAINT [PK_Recenzent] PRIMARY KEY CLUSTERED \r\n(\r\n\t[ID_Recenzent] ASC\r\n)WITH (PAD_INDEX = OFF, STATISTICS_NORECOMPUTE = OFF, IGNORE_DUP_KEY = OFF, ALLOW_ROW_LOCKS = ON, ALLOW_PAGE_LOCKS = ON, OPTIMIZE_FOR_SEQUENTIAL_KEY = OFF) ON [PRIMARY]\r\n) ON [PRIMARY]\r\nGO\r\n"
            ],
            "metadata": {
                "urn": "Server[@Name='DESKTOP-8FBCEN1\\SQLEXPRESS']/Database[@Name='PraceDyplomowe_BazyDanych']/Table[@Name='Recenzent' and @Schema='dbo']",
                "object_type": "Table",
                "extensions": {
                    "azuredatastudio": {
                        "views": []
                    }
                },
                "azdata_cell_guid": "f1f1c364-4eb6-4665-9ce7-9f659a187c49"
            },
            "outputs": [],
            "execution_count": null
        },
        {
            "cell_type": "markdown",
            "source": [
                "# [dbo].[RodzajStudiow]"
            ],
            "metadata": {
                "urn": "Server[@Name='DESKTOP-8FBCEN1\\SQLEXPRESS']/Database[@Name='PraceDyplomowe_BazyDanych']/Table[@Name='RodzajStudiow' and @Schema='dbo']",
                "object_type": "Table",
                "extensions": {
                    "azuredatastudio": {
                        "views": []
                    }
                },
                "azdata_cell_guid": "814a38d2-3283-4c1b-bcd0-a7dd854b9ada"
            }
        },
        {
            "cell_type": "code",
            "source": [
                "/****** Object:  Table [dbo].[RodzajStudiow]    Script Date: 26.01.2022 04:25:25 ******/\r\nSET ANSI_NULLS ON\r\n",
                "GO\r\n",
                "SET QUOTED_IDENTIFIER ON\r\n",
                "GO\r\n",
                "CREATE TABLE [dbo].[RodzajStudiow](\r\n\t[ID_RodzajStudiow] [int] IDENTITY(1,1) NOT NULL,\r\n\t[RodzajStudiow] [varchar](50) NOT NULL,\r\n CONSTRAINT [PK_RodzajStudiow] PRIMARY KEY CLUSTERED \r\n(\r\n\t[ID_RodzajStudiow] ASC\r\n)WITH (PAD_INDEX = OFF, STATISTICS_NORECOMPUTE = OFF, IGNORE_DUP_KEY = OFF, ALLOW_ROW_LOCKS = ON, ALLOW_PAGE_LOCKS = ON, OPTIMIZE_FOR_SEQUENTIAL_KEY = OFF) ON [PRIMARY]\r\n) ON [PRIMARY]\r\nGO\r\n"
            ],
            "metadata": {
                "urn": "Server[@Name='DESKTOP-8FBCEN1\\SQLEXPRESS']/Database[@Name='PraceDyplomowe_BazyDanych']/Table[@Name='RodzajStudiow' and @Schema='dbo']",
                "object_type": "Table",
                "extensions": {
                    "azuredatastudio": {
                        "views": []
                    }
                },
                "azdata_cell_guid": "63e45dd8-7241-4221-b055-b20f54f6cc66"
            },
            "outputs": [],
            "execution_count": null
        },
        {
            "cell_type": "markdown",
            "source": [
                "# [dbo].[SlowoKluczowe]"
            ],
            "metadata": {
                "urn": "Server[@Name='DESKTOP-8FBCEN1\\SQLEXPRESS']/Database[@Name='PraceDyplomowe_BazyDanych']/Table[@Name='SlowoKluczowe' and @Schema='dbo']",
                "object_type": "Table",
                "extensions": {
                    "azuredatastudio": {
                        "views": []
                    }
                },
                "azdata_cell_guid": "d57c2d64-2e78-472c-843c-76fa8bcc7737"
            }
        },
        {
            "cell_type": "code",
            "source": [
                "/****** Object:  Table [dbo].[SlowoKluczowe]    Script Date: 26.01.2022 04:25:25 ******/\r\nSET ANSI_NULLS ON\r\n",
                "GO\r\n",
                "SET QUOTED_IDENTIFIER ON\r\n",
                "GO\r\n",
                "CREATE TABLE [dbo].[SlowoKluczowe](\r\n\t[ID_SlowoKluczowe] [int] IDENTITY(1,1) NOT NULL,\r\n\t[SlowoKluczowe] [varchar](50) NOT NULL,\r\n CONSTRAINT [PK_SlowoKluczowe] PRIMARY KEY CLUSTERED \r\n(\r\n\t[ID_SlowoKluczowe] ASC\r\n)WITH (PAD_INDEX = OFF, STATISTICS_NORECOMPUTE = OFF, IGNORE_DUP_KEY = OFF, ALLOW_ROW_LOCKS = ON, ALLOW_PAGE_LOCKS = ON, OPTIMIZE_FOR_SEQUENTIAL_KEY = OFF) ON [PRIMARY],\r\n CONSTRAINT [UQ_Kluczowe] UNIQUE NONCLUSTERED \r\n(\r\n\t[SlowoKluczowe] ASC\r\n)WITH (PAD_INDEX = OFF, STATISTICS_NORECOMPUTE = OFF, IGNORE_DUP_KEY = OFF, ALLOW_ROW_LOCKS = ON, ALLOW_PAGE_LOCKS = ON, OPTIMIZE_FOR_SEQUENTIAL_KEY = OFF) ON [PRIMARY]\r\n) ON [PRIMARY]\r\nGO\r\n"
            ],
            "metadata": {
                "urn": "Server[@Name='DESKTOP-8FBCEN1\\SQLEXPRESS']/Database[@Name='PraceDyplomowe_BazyDanych']/Table[@Name='SlowoKluczowe' and @Schema='dbo']",
                "object_type": "Table",
                "extensions": {
                    "azuredatastudio": {
                        "views": []
                    }
                },
                "azdata_cell_guid": "6513b4a1-28e3-45e1-8d8e-6b2351dae168"
            },
            "outputs": [],
            "execution_count": null
        },
        {
            "cell_type": "markdown",
            "source": [
                "# [dbo].[SlowoPraca]"
            ],
            "metadata": {
                "urn": "Server[@Name='DESKTOP-8FBCEN1\\SQLEXPRESS']/Database[@Name='PraceDyplomowe_BazyDanych']/Table[@Name='SlowoPraca' and @Schema='dbo']",
                "object_type": "Table",
                "extensions": {
                    "azuredatastudio": {
                        "views": []
                    }
                },
                "azdata_cell_guid": "5f4d71ec-c9a0-4259-8c8c-f8602d1f8130"
            }
        },
        {
            "cell_type": "code",
            "source": [
                "/****** Object:  Table [dbo].[SlowoPraca]    Script Date: 26.01.2022 04:25:25 ******/\r\nSET ANSI_NULLS ON\r\n",
                "GO\r\n",
                "SET QUOTED_IDENTIFIER ON\r\n",
                "GO\r\n",
                "CREATE TABLE [dbo].[SlowoPraca](\r\n\t[ID_SlowoPraca] [int] IDENTITY(1,1) NOT NULL,\r\n\t[ID_PracaDyplomowa] [int] NOT NULL,\r\n\t[ID_SlowoKluczowe] [int] NOT NULL,\r\n CONSTRAINT [PK_SlowoPraca] PRIMARY KEY CLUSTERED \r\n(\r\n\t[ID_SlowoPraca] ASC\r\n)WITH (PAD_INDEX = OFF, STATISTICS_NORECOMPUTE = OFF, IGNORE_DUP_KEY = OFF, ALLOW_ROW_LOCKS = ON, ALLOW_PAGE_LOCKS = ON, OPTIMIZE_FOR_SEQUENTIAL_KEY = OFF) ON [PRIMARY]\r\n) ON [PRIMARY]\r\nGO\r\n"
            ],
            "metadata": {
                "urn": "Server[@Name='DESKTOP-8FBCEN1\\SQLEXPRESS']/Database[@Name='PraceDyplomowe_BazyDanych']/Table[@Name='SlowoPraca' and @Schema='dbo']",
                "object_type": "Table",
                "extensions": {
                    "azuredatastudio": {
                        "views": []
                    }
                },
                "azdata_cell_guid": "a9a8e788-1a7d-4c5d-a6f2-459e9795f026"
            },
            "outputs": [],
            "execution_count": null
        },
        {
            "cell_type": "markdown",
            "source": [
                "# [dbo].[Student]"
            ],
            "metadata": {
                "urn": "Server[@Name='DESKTOP-8FBCEN1\\SQLEXPRESS']/Database[@Name='PraceDyplomowe_BazyDanych']/Table[@Name='Student' and @Schema='dbo']",
                "object_type": "Table",
                "extensions": {
                    "azuredatastudio": {
                        "views": []
                    }
                },
                "azdata_cell_guid": "af57fb0e-fa9c-4203-8023-9df765b27471"
            }
        },
        {
            "cell_type": "code",
            "source": [
                "/****** Object:  Table [dbo].[Student]    Script Date: 26.01.2022 04:25:25 ******/\r\nSET ANSI_NULLS ON\r\n",
                "GO\r\n",
                "SET QUOTED_IDENTIFIER ON\r\n",
                "GO\r\n",
                "CREATE TABLE [dbo].[Student](\r\n\t[ID_Student] [int] IDENTITY(1,1) NOT NULL,\r\n\t[Student_imie] [varchar](50) NOT NULL,\r\n\t[Student_nazwisko] [varchar](50) NOT NULL,\r\n\t[Student_telefon] [varchar](50) NOT NULL,\r\n\t[Student_adres_email] [varchar](50) NULL,\r\n\t[ID_KierunekStudiow] [int] NOT NULL,\r\n\t[Student_numer_indeksu] [int] NOT NULL,\r\n CONSTRAINT [PK_Student] PRIMARY KEY CLUSTERED \r\n(\r\n\t[ID_Student] ASC\r\n)WITH (PAD_INDEX = OFF, STATISTICS_NORECOMPUTE = OFF, IGNORE_DUP_KEY = OFF, ALLOW_ROW_LOCKS = ON, ALLOW_PAGE_LOCKS = ON, OPTIMIZE_FOR_SEQUENTIAL_KEY = OFF) ON [PRIMARY],\r\n CONSTRAINT [C_Student] UNIQUE NONCLUSTERED \r\n(\r\n\t[Student_adres_email] ASC,\r\n\t[Student_telefon] ASC\r\n)WITH (PAD_INDEX = OFF, STATISTICS_NORECOMPUTE = OFF, IGNORE_DUP_KEY = OFF, ALLOW_ROW_LOCKS = ON, ALLOW_PAGE_LOCKS = ON, OPTIMIZE_FOR_SEQUENTIAL_KEY = OFF) ON [PRIMARY]\r\n) ON [PRIMARY]\r\nGO\r\n"
            ],
            "metadata": {
                "urn": "Server[@Name='DESKTOP-8FBCEN1\\SQLEXPRESS']/Database[@Name='PraceDyplomowe_BazyDanych']/Table[@Name='Student' and @Schema='dbo']",
                "object_type": "Table",
                "extensions": {
                    "azuredatastudio": {
                        "views": []
                    }
                },
                "azdata_cell_guid": "e349b20c-9695-427b-bd34-38b4147b3d0f"
            },
            "outputs": [],
            "execution_count": null
        },
        {
            "cell_type": "markdown",
            "source": [
                "# [FK_AutorPracy_PracaDyplomowa]"
            ],
            "metadata": {
                "urn": "Server[@Name='DESKTOP-8FBCEN1\\SQLEXPRESS']/Database[@Name='PraceDyplomowe_BazyDanych']/Table[@Name='AutorPracy' and @Schema='dbo']/ForeignKey[@Name='FK_AutorPracy_PracaDyplomowa']",
                "object_type": "ForeignKey",
                "extensions": {
                    "azuredatastudio": {
                        "views": []
                    }
                },
                "azdata_cell_guid": "6f62ca41-6e02-4bb4-b4ba-064685536bd5"
            }
        },
        {
            "cell_type": "code",
            "source": [
                "ALTER TABLE [dbo].[AutorPracy]  WITH CHECK ADD  CONSTRAINT [FK_AutorPracy_PracaDyplomowa] FOREIGN KEY([ID_PracaDyplomowa])\r\nREFERENCES [dbo].[PracaDyplomowa] ([ID_PracaDyplomowa])\r\n",
                "GO\r\n",
                "ALTER TABLE [dbo].[AutorPracy] CHECK CONSTRAINT [FK_AutorPracy_PracaDyplomowa]\r\n",
                "GO\r\n"
            ],
            "metadata": {
                "urn": "Server[@Name='DESKTOP-8FBCEN1\\SQLEXPRESS']/Database[@Name='PraceDyplomowe_BazyDanych']/Table[@Name='AutorPracy' and @Schema='dbo']/ForeignKey[@Name='FK_AutorPracy_PracaDyplomowa']",
                "object_type": "ForeignKey",
                "extensions": {
                    "azuredatastudio": {
                        "views": []
                    }
                },
                "azdata_cell_guid": "326f70e4-1393-40b6-b5f1-499bbc45aee8"
            },
            "outputs": [],
            "execution_count": null
        },
        {
            "cell_type": "markdown",
            "source": [
                "# [FK_AutorPracy_PracownikNaukowy]"
            ],
            "metadata": {
                "urn": "Server[@Name='DESKTOP-8FBCEN1\\SQLEXPRESS']/Database[@Name='PraceDyplomowe_BazyDanych']/Table[@Name='AutorPracy' and @Schema='dbo']/ForeignKey[@Name='FK_AutorPracy_PracownikNaukowy']",
                "object_type": "ForeignKey",
                "extensions": {
                    "azuredatastudio": {
                        "views": []
                    }
                },
                "azdata_cell_guid": "0ae531f8-cca5-43f5-b0fb-ecd5c4ac4252"
            }
        },
        {
            "cell_type": "code",
            "source": [
                "ALTER TABLE [dbo].[AutorPracy]  WITH CHECK ADD  CONSTRAINT [FK_AutorPracy_PracownikNaukowy] FOREIGN KEY([ID_PrzewodniczacyKomisji])\r\nREFERENCES [dbo].[PracownikNaukowy] ([ID_PracownikNaukowy])\r\n",
                "GO\r\n",
                "ALTER TABLE [dbo].[AutorPracy] CHECK CONSTRAINT [FK_AutorPracy_PracownikNaukowy]\r\n",
                "GO\r\n"
            ],
            "metadata": {
                "urn": "Server[@Name='DESKTOP-8FBCEN1\\SQLEXPRESS']/Database[@Name='PraceDyplomowe_BazyDanych']/Table[@Name='AutorPracy' and @Schema='dbo']/ForeignKey[@Name='FK_AutorPracy_PracownikNaukowy']",
                "object_type": "ForeignKey",
                "extensions": {
                    "azuredatastudio": {
                        "views": []
                    }
                },
                "azdata_cell_guid": "75c1feac-2aee-40c4-899a-1b91488557f3"
            },
            "outputs": [],
            "execution_count": null
        },
        {
            "cell_type": "markdown",
            "source": [
                "# [FK_AutorPracy_Student]"
            ],
            "metadata": {
                "urn": "Server[@Name='DESKTOP-8FBCEN1\\SQLEXPRESS']/Database[@Name='PraceDyplomowe_BazyDanych']/Table[@Name='AutorPracy' and @Schema='dbo']/ForeignKey[@Name='FK_AutorPracy_Student']",
                "object_type": "ForeignKey",
                "extensions": {
                    "azuredatastudio": {
                        "views": []
                    }
                },
                "azdata_cell_guid": "f426f227-9f9e-492b-81b8-3891132116f1"
            }
        },
        {
            "cell_type": "code",
            "source": [
                "ALTER TABLE [dbo].[AutorPracy]  WITH CHECK ADD  CONSTRAINT [FK_AutorPracy_Student] FOREIGN KEY([ID_Student])\r\nREFERENCES [dbo].[Student] ([ID_Student])\r\n",
                "GO\r\n",
                "ALTER TABLE [dbo].[AutorPracy] CHECK CONSTRAINT [FK_AutorPracy_Student]\r\n",
                "GO\r\n"
            ],
            "metadata": {
                "urn": "Server[@Name='DESKTOP-8FBCEN1\\SQLEXPRESS']/Database[@Name='PraceDyplomowe_BazyDanych']/Table[@Name='AutorPracy' and @Schema='dbo']/ForeignKey[@Name='FK_AutorPracy_Student']",
                "object_type": "ForeignKey",
                "extensions": {
                    "azuredatastudio": {
                        "views": []
                    }
                },
                "azdata_cell_guid": "89f1cea9-b6ee-4788-ac93-aa4ae8011ffe"
            },
            "outputs": [],
            "execution_count": null
        },
        {
            "cell_type": "markdown",
            "source": [
                "# [FK_PracaDyplomowa_Promotor]"
            ],
            "metadata": {
                "urn": "Server[@Name='DESKTOP-8FBCEN1\\SQLEXPRESS']/Database[@Name='PraceDyplomowe_BazyDanych']/Table[@Name='PracaDyplomowa' and @Schema='dbo']/ForeignKey[@Name='FK_PracaDyplomowa_Promotor']",
                "object_type": "ForeignKey",
                "extensions": {
                    "azuredatastudio": {
                        "views": []
                    }
                },
                "azdata_cell_guid": "4da459d2-7f3d-495a-91d6-7d4e829dc2b4"
            }
        },
        {
            "cell_type": "code",
            "source": [
                "ALTER TABLE [dbo].[PracaDyplomowa]  WITH CHECK ADD  CONSTRAINT [FK_PracaDyplomowa_Promotor] FOREIGN KEY([ID_Promotor])\r\nREFERENCES [dbo].[Promotor] ([ID_Promotor])\r\n",
                "GO\r\n",
                "ALTER TABLE [dbo].[PracaDyplomowa] CHECK CONSTRAINT [FK_PracaDyplomowa_Promotor]\r\n",
                "GO\r\n"
            ],
            "metadata": {
                "urn": "Server[@Name='DESKTOP-8FBCEN1\\SQLEXPRESS']/Database[@Name='PraceDyplomowe_BazyDanych']/Table[@Name='PracaDyplomowa' and @Schema='dbo']/ForeignKey[@Name='FK_PracaDyplomowa_Promotor']",
                "object_type": "ForeignKey",
                "extensions": {
                    "azuredatastudio": {
                        "views": []
                    }
                },
                "azdata_cell_guid": "3fc0e571-b813-4fff-adfb-57ee2d408ab2"
            },
            "outputs": [],
            "execution_count": null
        },
        {
            "cell_type": "markdown",
            "source": [
                "# [FK_PracaDyplomowa_Recenzent]"
            ],
            "metadata": {
                "urn": "Server[@Name='DESKTOP-8FBCEN1\\SQLEXPRESS']/Database[@Name='PraceDyplomowe_BazyDanych']/Table[@Name='PracaDyplomowa' and @Schema='dbo']/ForeignKey[@Name='FK_PracaDyplomowa_Recenzent']",
                "object_type": "ForeignKey",
                "extensions": {
                    "azuredatastudio": {
                        "views": []
                    }
                },
                "azdata_cell_guid": "6dcfd8b7-5c3e-49dc-ba66-ca22658d66a3"
            }
        },
        {
            "cell_type": "code",
            "source": [
                "ALTER TABLE [dbo].[PracaDyplomowa]  WITH CHECK ADD  CONSTRAINT [FK_PracaDyplomowa_Recenzent] FOREIGN KEY([ID_Recenzent])\r\nREFERENCES [dbo].[Recenzent] ([ID_Recenzent])\r\n",
                "GO\r\n",
                "ALTER TABLE [dbo].[PracaDyplomowa] CHECK CONSTRAINT [FK_PracaDyplomowa_Recenzent]\r\n",
                "GO\r\n"
            ],
            "metadata": {
                "urn": "Server[@Name='DESKTOP-8FBCEN1\\SQLEXPRESS']/Database[@Name='PraceDyplomowe_BazyDanych']/Table[@Name='PracaDyplomowa' and @Schema='dbo']/ForeignKey[@Name='FK_PracaDyplomowa_Recenzent']",
                "object_type": "ForeignKey",
                "extensions": {
                    "azuredatastudio": {
                        "views": []
                    }
                },
                "azdata_cell_guid": "264b9056-5167-446b-9a44-e582046e87b5"
            },
            "outputs": [],
            "execution_count": null
        },
        {
            "cell_type": "markdown",
            "source": [
                "# [FK_PracaDyplomowa_RodzajStudiow]"
            ],
            "metadata": {
                "urn": "Server[@Name='DESKTOP-8FBCEN1\\SQLEXPRESS']/Database[@Name='PraceDyplomowe_BazyDanych']/Table[@Name='PracaDyplomowa' and @Schema='dbo']/ForeignKey[@Name='FK_PracaDyplomowa_RodzajStudiow']",
                "object_type": "ForeignKey",
                "extensions": {
                    "azuredatastudio": {
                        "views": []
                    }
                },
                "azdata_cell_guid": "68659875-e832-4c0f-854c-d3fd46e389f1"
            }
        },
        {
            "cell_type": "code",
            "source": [
                "ALTER TABLE [dbo].[PracaDyplomowa]  WITH CHECK ADD  CONSTRAINT [FK_PracaDyplomowa_RodzajStudiow] FOREIGN KEY([ID_RodzajStudiow])\r\nREFERENCES [dbo].[RodzajStudiow] ([ID_RodzajStudiow])\r\n",
                "GO\r\n",
                "ALTER TABLE [dbo].[PracaDyplomowa] CHECK CONSTRAINT [FK_PracaDyplomowa_RodzajStudiow]\r\n",
                "GO\r\n"
            ],
            "metadata": {
                "urn": "Server[@Name='DESKTOP-8FBCEN1\\SQLEXPRESS']/Database[@Name='PraceDyplomowe_BazyDanych']/Table[@Name='PracaDyplomowa' and @Schema='dbo']/ForeignKey[@Name='FK_PracaDyplomowa_RodzajStudiow']",
                "object_type": "ForeignKey",
                "extensions": {
                    "azuredatastudio": {
                        "views": []
                    }
                },
                "azdata_cell_guid": "251f620c-b4c7-4470-8a82-f41e1808d88a"
            },
            "outputs": [],
            "execution_count": null
        },
        {
            "cell_type": "markdown",
            "source": [
                "# [FK_PracownikNaukowy_Katedra]"
            ],
            "metadata": {
                "urn": "Server[@Name='DESKTOP-8FBCEN1\\SQLEXPRESS']/Database[@Name='PraceDyplomowe_BazyDanych']/Table[@Name='PracownikNaukowy' and @Schema='dbo']/ForeignKey[@Name='FK_PracownikNaukowy_Katedra']",
                "object_type": "ForeignKey",
                "extensions": {
                    "azuredatastudio": {
                        "views": []
                    }
                },
                "azdata_cell_guid": "eadf9e64-3930-42e6-b4aa-308e22158aae"
            }
        },
        {
            "cell_type": "code",
            "source": [
                "ALTER TABLE [dbo].[PracownikNaukowy]  WITH CHECK ADD  CONSTRAINT [FK_PracownikNaukowy_Katedra] FOREIGN KEY([ID_Katedra])\r\nREFERENCES [dbo].[Katedra] ([ID_Katedra])\r\n",
                "GO\r\n",
                "ALTER TABLE [dbo].[PracownikNaukowy] CHECK CONSTRAINT [FK_PracownikNaukowy_Katedra]\r\n",
                "GO\r\n"
            ],
            "metadata": {
                "urn": "Server[@Name='DESKTOP-8FBCEN1\\SQLEXPRESS']/Database[@Name='PraceDyplomowe_BazyDanych']/Table[@Name='PracownikNaukowy' and @Schema='dbo']/ForeignKey[@Name='FK_PracownikNaukowy_Katedra']",
                "object_type": "ForeignKey",
                "extensions": {
                    "azuredatastudio": {
                        "views": []
                    }
                },
                "azdata_cell_guid": "a7df45f3-15cf-4103-a94a-5d9dadb54e0e"
            },
            "outputs": [],
            "execution_count": null
        },
        {
            "cell_type": "markdown",
            "source": [
                "# [FK_PracownikNaukowy_NaukowyStopien]"
            ],
            "metadata": {
                "urn": "Server[@Name='DESKTOP-8FBCEN1\\SQLEXPRESS']/Database[@Name='PraceDyplomowe_BazyDanych']/Table[@Name='PracownikNaukowy' and @Schema='dbo']/ForeignKey[@Name='FK_PracownikNaukowy_NaukowyStopien']",
                "object_type": "ForeignKey",
                "extensions": {
                    "azuredatastudio": {
                        "views": []
                    }
                },
                "azdata_cell_guid": "209808fd-4602-4907-a1ea-c743027e41cf"
            }
        },
        {
            "cell_type": "code",
            "source": [
                "ALTER TABLE [dbo].[PracownikNaukowy]  WITH CHECK ADD  CONSTRAINT [FK_PracownikNaukowy_NaukowyStopien] FOREIGN KEY([ID_StopienNaukowy])\r\nREFERENCES [dbo].[NaukowyStopien] ([ID_StopieNaukowy])\r\n",
                "GO\r\n",
                "ALTER TABLE [dbo].[PracownikNaukowy] CHECK CONSTRAINT [FK_PracownikNaukowy_NaukowyStopien]\r\n",
                "GO\r\n"
            ],
            "metadata": {
                "urn": "Server[@Name='DESKTOP-8FBCEN1\\SQLEXPRESS']/Database[@Name='PraceDyplomowe_BazyDanych']/Table[@Name='PracownikNaukowy' and @Schema='dbo']/ForeignKey[@Name='FK_PracownikNaukowy_NaukowyStopien']",
                "object_type": "ForeignKey",
                "extensions": {
                    "azuredatastudio": {
                        "views": []
                    }
                },
                "azdata_cell_guid": "3684fa49-74b6-4d3f-809e-69ff291edc01"
            },
            "outputs": [],
            "execution_count": null
        },
        {
            "cell_type": "markdown",
            "source": [
                "# [FK_Promotor_PracownikNaukowy]"
            ],
            "metadata": {
                "urn": "Server[@Name='DESKTOP-8FBCEN1\\SQLEXPRESS']/Database[@Name='PraceDyplomowe_BazyDanych']/Table[@Name='Promotor' and @Schema='dbo']/ForeignKey[@Name='FK_Promotor_PracownikNaukowy']",
                "object_type": "ForeignKey",
                "extensions": {
                    "azuredatastudio": {
                        "views": []
                    }
                },
                "azdata_cell_guid": "db338265-7992-4194-a6cc-df6ffec27e4a"
            }
        },
        {
            "cell_type": "code",
            "source": [
                "ALTER TABLE [dbo].[Promotor]  WITH CHECK ADD  CONSTRAINT [FK_Promotor_PracownikNaukowy] FOREIGN KEY([ID_PracownikNaukowy])\r\nREFERENCES [dbo].[PracownikNaukowy] ([ID_PracownikNaukowy])\r\n",
                "GO\r\n",
                "ALTER TABLE [dbo].[Promotor] CHECK CONSTRAINT [FK_Promotor_PracownikNaukowy]\r\n",
                "GO\r\n"
            ],
            "metadata": {
                "urn": "Server[@Name='DESKTOP-8FBCEN1\\SQLEXPRESS']/Database[@Name='PraceDyplomowe_BazyDanych']/Table[@Name='Promotor' and @Schema='dbo']/ForeignKey[@Name='FK_Promotor_PracownikNaukowy']",
                "object_type": "ForeignKey",
                "extensions": {
                    "azuredatastudio": {
                        "views": []
                    }
                },
                "azdata_cell_guid": "ebfb2fb9-7d02-460e-9e70-133d1495895f"
            },
            "outputs": [],
            "execution_count": null
        },
        {
            "cell_type": "markdown",
            "source": [
                "# [FK_Recenzent_PracownikNaukowy]"
            ],
            "metadata": {
                "urn": "Server[@Name='DESKTOP-8FBCEN1\\SQLEXPRESS']/Database[@Name='PraceDyplomowe_BazyDanych']/Table[@Name='Recenzent' and @Schema='dbo']/ForeignKey[@Name='FK_Recenzent_PracownikNaukowy']",
                "object_type": "ForeignKey",
                "extensions": {
                    "azuredatastudio": {
                        "views": []
                    }
                },
                "azdata_cell_guid": "22b0497c-2e38-442f-adb7-b5312d0afe6e"
            }
        },
        {
            "cell_type": "code",
            "source": [
                "ALTER TABLE [dbo].[Recenzent]  WITH CHECK ADD  CONSTRAINT [FK_Recenzent_PracownikNaukowy] FOREIGN KEY([ID_PracownikNaukowy])\r\nREFERENCES [dbo].[PracownikNaukowy] ([ID_PracownikNaukowy])\r\n",
                "GO\r\n",
                "ALTER TABLE [dbo].[Recenzent] CHECK CONSTRAINT [FK_Recenzent_PracownikNaukowy]\r\n",
                "GO\r\n"
            ],
            "metadata": {
                "urn": "Server[@Name='DESKTOP-8FBCEN1\\SQLEXPRESS']/Database[@Name='PraceDyplomowe_BazyDanych']/Table[@Name='Recenzent' and @Schema='dbo']/ForeignKey[@Name='FK_Recenzent_PracownikNaukowy']",
                "object_type": "ForeignKey",
                "extensions": {
                    "azuredatastudio": {
                        "views": []
                    }
                },
                "azdata_cell_guid": "a8652f7f-afcb-47c6-ab6d-9ddf95ba105c"
            },
            "outputs": [],
            "execution_count": null
        },
        {
            "cell_type": "markdown",
            "source": [
                "# [FK_SlowoPraca_PracaDyplomowa]"
            ],
            "metadata": {
                "urn": "Server[@Name='DESKTOP-8FBCEN1\\SQLEXPRESS']/Database[@Name='PraceDyplomowe_BazyDanych']/Table[@Name='SlowoPraca' and @Schema='dbo']/ForeignKey[@Name='FK_SlowoPraca_PracaDyplomowa']",
                "object_type": "ForeignKey",
                "extensions": {
                    "azuredatastudio": {
                        "views": []
                    }
                },
                "azdata_cell_guid": "94aaa55d-ff9c-4d4e-a980-857c54a233ee"
            }
        },
        {
            "cell_type": "code",
            "source": [
                "ALTER TABLE [dbo].[SlowoPraca]  WITH CHECK ADD  CONSTRAINT [FK_SlowoPraca_PracaDyplomowa] FOREIGN KEY([ID_PracaDyplomowa])\r\nREFERENCES [dbo].[PracaDyplomowa] ([ID_PracaDyplomowa])\r\n",
                "GO\r\n",
                "ALTER TABLE [dbo].[SlowoPraca] CHECK CONSTRAINT [FK_SlowoPraca_PracaDyplomowa]\r\n",
                "GO\r\n"
            ],
            "metadata": {
                "urn": "Server[@Name='DESKTOP-8FBCEN1\\SQLEXPRESS']/Database[@Name='PraceDyplomowe_BazyDanych']/Table[@Name='SlowoPraca' and @Schema='dbo']/ForeignKey[@Name='FK_SlowoPraca_PracaDyplomowa']",
                "object_type": "ForeignKey",
                "extensions": {
                    "azuredatastudio": {
                        "views": []
                    }
                },
                "azdata_cell_guid": "517d82f3-40d7-42ad-a193-d084883355eb"
            },
            "outputs": [],
            "execution_count": null
        },
        {
            "cell_type": "markdown",
            "source": [
                "# [FK_SlowoPraca_SlowoKluczowe]"
            ],
            "metadata": {
                "urn": "Server[@Name='DESKTOP-8FBCEN1\\SQLEXPRESS']/Database[@Name='PraceDyplomowe_BazyDanych']/Table[@Name='SlowoPraca' and @Schema='dbo']/ForeignKey[@Name='FK_SlowoPraca_SlowoKluczowe']",
                "object_type": "ForeignKey",
                "extensions": {
                    "azuredatastudio": {
                        "views": []
                    }
                },
                "azdata_cell_guid": "dba832bf-b553-40b1-a381-709c70f1708c"
            }
        },
        {
            "cell_type": "code",
            "source": [
                "ALTER TABLE [dbo].[SlowoPraca]  WITH CHECK ADD  CONSTRAINT [FK_SlowoPraca_SlowoKluczowe] FOREIGN KEY([ID_SlowoKluczowe])\r\nREFERENCES [dbo].[SlowoKluczowe] ([ID_SlowoKluczowe])\r\n",
                "GO\r\n",
                "ALTER TABLE [dbo].[SlowoPraca] CHECK CONSTRAINT [FK_SlowoPraca_SlowoKluczowe]\r\n",
                "GO\r\n"
            ],
            "metadata": {
                "urn": "Server[@Name='DESKTOP-8FBCEN1\\SQLEXPRESS']/Database[@Name='PraceDyplomowe_BazyDanych']/Table[@Name='SlowoPraca' and @Schema='dbo']/ForeignKey[@Name='FK_SlowoPraca_SlowoKluczowe']",
                "object_type": "ForeignKey",
                "extensions": {
                    "azuredatastudio": {
                        "views": []
                    }
                },
                "azdata_cell_guid": "a990a139-e210-4a87-92c0-ab3162a6eeca"
            },
            "outputs": [],
            "execution_count": null
        },
        {
            "cell_type": "markdown",
            "source": [
                "# [FK_Student_KierunekStudiów]"
            ],
            "metadata": {
                "urn": "Server[@Name='DESKTOP-8FBCEN1\\SQLEXPRESS']/Database[@Name='PraceDyplomowe_BazyDanych']/Table[@Name='Student' and @Schema='dbo']/ForeignKey[@Name='FK_Student_KierunekStudiów']",
                "object_type": "ForeignKey",
                "extensions": {
                    "azuredatastudio": {
                        "views": []
                    }
                },
                "azdata_cell_guid": "d46c055d-0b4c-476a-8afb-10c7231bbeee"
            }
        },
        {
            "cell_type": "code",
            "source": [
                "ALTER TABLE [dbo].[Student]  WITH CHECK ADD  CONSTRAINT [FK_Student_KierunekStudiów] FOREIGN KEY([ID_KierunekStudiow])\r\nREFERENCES [dbo].[KierunekStudiów] ([ID_Kierunek_Studiów])\r\n",
                "GO\r\n",
                "ALTER TABLE [dbo].[Student] CHECK CONSTRAINT [FK_Student_KierunekStudiów]\r\n",
                "GO\r\n"
            ],
            "metadata": {
                "urn": "Server[@Name='DESKTOP-8FBCEN1\\SQLEXPRESS']/Database[@Name='PraceDyplomowe_BazyDanych']/Table[@Name='Student' and @Schema='dbo']/ForeignKey[@Name='FK_Student_KierunekStudiów']",
                "object_type": "ForeignKey",
                "extensions": {
                    "azuredatastudio": {
                        "views": []
                    }
                },
                "azdata_cell_guid": "9f446f72-a38d-442a-b39b-92aacd7e883f"
            },
            "outputs": [],
            "execution_count": null
        },
        {
            "cell_type": "markdown",
            "source": [
                "# [CHK_Person]"
            ],
            "metadata": {
                "urn": "Server[@Name='DESKTOP-8FBCEN1\\SQLEXPRESS']/Database[@Name='PraceDyplomowe_BazyDanych']/Table[@Name='AutorPracy' and @Schema='dbo']/Check[@Name='CHK_Person']",
                "object_type": "Check",
                "extensions": {
                    "azuredatastudio": {
                        "views": []
                    }
                },
                "azdata_cell_guid": "7ee155e5-82a2-4e19-82f9-0fe86d6c0130"
            }
        },
        {
            "cell_type": "code",
            "source": [
                "ALTER TABLE [dbo].[AutorPracy]  WITH CHECK ADD  CONSTRAINT [CHK_Person] CHECK  (([OcenaZObrony]>=(2) AND [OcenaZObrony]<=(5)))\r\n",
                "GO\r\n",
                "ALTER TABLE [dbo].[AutorPracy] CHECK CONSTRAINT [CHK_Person]\r\n",
                "GO\r\n"
            ],
            "metadata": {
                "urn": "Server[@Name='DESKTOP-8FBCEN1\\SQLEXPRESS']/Database[@Name='PraceDyplomowe_BazyDanych']/Table[@Name='AutorPracy' and @Schema='dbo']/Check[@Name='CHK_Person']",
                "object_type": "Check",
                "extensions": {
                    "azuredatastudio": {
                        "views": []
                    }
                },
                "azdata_cell_guid": "09b701f4-e626-480c-903c-f44cdadc57f4"
            },
            "outputs": [],
            "execution_count": null
        },
        {
            "cell_type": "markdown",
            "source": [
                "# [CHK_Person2]"
            ],
            "metadata": {
                "urn": "Server[@Name='DESKTOP-8FBCEN1\\SQLEXPRESS']/Database[@Name='PraceDyplomowe_BazyDanych']/Table[@Name='Promotor' and @Schema='dbo']/Check[@Name='CHK_Person2']",
                "object_type": "Check",
                "extensions": {
                    "azuredatastudio": {
                        "views": []
                    }
                },
                "azdata_cell_guid": "8309446b-8621-4ab2-8c8b-adb0b3ce7b5d"
            }
        },
        {
            "cell_type": "code",
            "source": [
                "ALTER TABLE [dbo].[Promotor]  WITH CHECK ADD  CONSTRAINT [CHK_Person2] CHECK  (([Ocena]>=(2) AND [Ocena]<=(5)))\r\n",
                "GO\r\n",
                "ALTER TABLE [dbo].[Promotor] CHECK CONSTRAINT [CHK_Person2]\r\n",
                "GO\r\n"
            ],
            "metadata": {
                "urn": "Server[@Name='DESKTOP-8FBCEN1\\SQLEXPRESS']/Database[@Name='PraceDyplomowe_BazyDanych']/Table[@Name='Promotor' and @Schema='dbo']/Check[@Name='CHK_Person2']",
                "object_type": "Check",
                "extensions": {
                    "azuredatastudio": {
                        "views": []
                    }
                },
                "azdata_cell_guid": "ffc00505-e06e-4ab1-8d83-8e309d83e111"
            },
            "outputs": [],
            "execution_count": null
        },
        {
            "cell_type": "markdown",
            "source": [
                "# [CHK_Person3]"
            ],
            "metadata": {
                "urn": "Server[@Name='DESKTOP-8FBCEN1\\SQLEXPRESS']/Database[@Name='PraceDyplomowe_BazyDanych']/Table[@Name='Recenzent' and @Schema='dbo']/Check[@Name='CHK_Person3']",
                "object_type": "Check",
                "extensions": {
                    "azuredatastudio": {
                        "views": []
                    }
                },
                "azdata_cell_guid": "7de59650-a687-4447-932f-d27e145f7b1e"
            }
        },
        {
            "cell_type": "code",
            "source": [
                "ALTER TABLE [dbo].[Recenzent]  WITH CHECK ADD  CONSTRAINT [CHK_Person3] CHECK  (([Ocena]>=(2) AND [Ocena]<=(5)))\r\n",
                "GO\r\n",
                "ALTER TABLE [dbo].[Recenzent] CHECK CONSTRAINT [CHK_Person3]\r\n",
                "GO\r\n"
            ],
            "metadata": {
                "urn": "Server[@Name='DESKTOP-8FBCEN1\\SQLEXPRESS']/Database[@Name='PraceDyplomowe_BazyDanych']/Table[@Name='Recenzent' and @Schema='dbo']/Check[@Name='CHK_Person3']",
                "object_type": "Check",
                "extensions": {
                    "azuredatastudio": {
                        "views": []
                    }
                },
                "azdata_cell_guid": "1461d95f-48bf-4d78-93cb-28defc5532f7"
            },
            "outputs": [],
            "execution_count": null
        },
        {
            "cell_type": "markdown",
            "source": [
                "# [dbo].[katedraProcedure]"
            ],
            "metadata": {
                "urn": "Server[@Name='DESKTOP-8FBCEN1\\SQLEXPRESS']/Database[@Name='PraceDyplomowe_BazyDanych']/StoredProcedure[@Name='katedraProcedure' and @Schema='dbo']",
                "object_type": "StoredProcedure",
                "extensions": {
                    "azuredatastudio": {
                        "views": []
                    }
                },
                "azdata_cell_guid": "d7937cac-9891-441d-aeba-4acded7be468"
            }
        },
        {
            "cell_type": "code",
            "source": [
                "/****** Object:  StoredProcedure [dbo].[katedraProcedure]    Script Date: 26.01.2022 04:25:25 ******/\r\nSET ANSI_NULLS ON\r\n",
                "GO\r\n",
                "SET QUOTED_IDENTIFIER ON\r\n",
                "GO\r\n",
                "CREATE PROCEDURE [dbo].[katedraProcedure]\r\nAS\r\nSELECT * FROM dbo.Katedra\r\nGO\r\n"
            ],
            "metadata": {
                "urn": "Server[@Name='DESKTOP-8FBCEN1\\SQLEXPRESS']/Database[@Name='PraceDyplomowe_BazyDanych']/StoredProcedure[@Name='katedraProcedure' and @Schema='dbo']",
                "object_type": "StoredProcedure",
                "extensions": {
                    "azuredatastudio": {
                        "views": []
                    }
                },
                "azdata_cell_guid": "b712794c-3d00-413f-89d2-98d27f8b6a5b"
            },
            "outputs": [],
            "execution_count": null
        },
        {
            "cell_type": "markdown",
            "source": [
                "# [dbo].[pracaSlowoKluczProcedura]"
            ],
            "metadata": {
                "urn": "Server[@Name='DESKTOP-8FBCEN1\\SQLEXPRESS']/Database[@Name='PraceDyplomowe_BazyDanych']/StoredProcedure[@Name='pracaSlowoKluczProcedura' and @Schema='dbo']",
                "object_type": "StoredProcedure",
                "extensions": {
                    "azuredatastudio": {
                        "views": []
                    }
                },
                "azdata_cell_guid": "e2cca4ed-cd1c-47bb-92fc-2fcb269da9d3"
            }
        },
        {
            "cell_type": "code",
            "source": [
                "/****** Object:  StoredProcedure [dbo].[pracaSlowoKluczProcedura]    Script Date: 26.01.2022 04:25:25 ******/\r\nSET ANSI_NULLS ON\r\n",
                "GO\r\n",
                "SET QUOTED_IDENTIFIER ON\r\n",
                "GO\r\n",
                "\r\nCREATE PROCEDURE [dbo].[pracaSlowoKluczProcedura] @Type nvarchar(30)\r\n\r\nAS\r\n\r\nselect dbo.SlowoKluczowe.SlowoKluczowe, dbo.PracaDyplomowa.TematPracy, dbo.Student.Student_imie, dbo.Student.Student_nazwisko from dbo.SlowoPraca\r\n\tINNER JOIN dbo.SlowoKluczowe on dbo.SlowoKluczowe.ID_SlowoKluczowe=dbo.SlowoPraca.ID_SlowoKluczowe\r\n\tINNER JOIN dbo.PracaDyplomowa on dbo.PracaDyplomowa.ID_PracaDyplomowa=dbo.SlowoPraca.ID_PracaDyplomowa\r\n\tINNER JOIN dbo.Student on dbo.PracaDyplomowa.ID_PracaDyplomowa=dbo.SlowoPraca.ID_PracaDyplomowa\r\nWHERE dbo.SlowoKluczowe.SlowoKluczowe=@Type\r\n\r\nGO\r\n"
            ],
            "metadata": {
                "urn": "Server[@Name='DESKTOP-8FBCEN1\\SQLEXPRESS']/Database[@Name='PraceDyplomowe_BazyDanych']/StoredProcedure[@Name='pracaSlowoKluczProcedura' and @Schema='dbo']",
                "object_type": "StoredProcedure",
                "extensions": {
                    "azuredatastudio": {
                        "views": []
                    }
                },
                "azdata_cell_guid": "362ec06e-abde-4ebb-bc97-fdc1894cda55"
            },
            "outputs": [],
            "execution_count": null
        },
        {
            "cell_type": "markdown",
            "source": [
                "# [dbo].[studiaTypProcedura]"
            ],
            "metadata": {
                "urn": "Server[@Name='DESKTOP-8FBCEN1\\SQLEXPRESS']/Database[@Name='PraceDyplomowe_BazyDanych']/StoredProcedure[@Name='studiaTypProcedura' and @Schema='dbo']",
                "object_type": "StoredProcedure",
                "extensions": {
                    "azuredatastudio": {
                        "views": []
                    }
                },
                "azdata_cell_guid": "5349dfc7-cf61-4a70-a393-d1d2974bfd50"
            }
        },
        {
            "cell_type": "code",
            "source": [
                "/****** Object:  StoredProcedure [dbo].[studiaTypProcedura]    Script Date: 26.01.2022 04:25:25 ******/\r\nSET ANSI_NULLS ON\r\n",
                "GO\r\n",
                "SET QUOTED_IDENTIFIER ON\r\n",
                "GO\r\n",
                "\r\nCREATE PROCEDURE [dbo].[studiaTypProcedura] @Type nvarchar(30)\r\nAS\r\n\r\nselect dbo.RodzajStudiow.RodzajStudiow, dbo.AutorPracy.DataObrony, dbo.AutorPracy.OcenaZObrony, Student.Student_imie, Student.Student_nazwisko, PracaDyplomowa.TematPracy  from dbo.AutorPracy\r\n\tINNER JOIN dbo.Student on dbo.AutorPracy.ID_Student=dbo.Student.ID_Student\r\n\tINNER JOIN dbo.PracaDyplomowa on dbo.AutorPracy.ID_PracaDyplomowa=dbo.PracaDyplomowa.ID_PracaDyplomowa\r\n\tINNER JOIN dbo.RodzajStudiow on dbo.RodzajStudiow.ID_RodzajStudiow=dbo.PracaDyplomowa.ID_RodzajStudiow\r\nWHERE dbo.RodzajStudiow.RodzajStudiow=@Type\r\n",
                "GO\r\n"
            ],
            "metadata": {
                "urn": "Server[@Name='DESKTOP-8FBCEN1\\SQLEXPRESS']/Database[@Name='PraceDyplomowe_BazyDanych']/StoredProcedure[@Name='studiaTypProcedura' and @Schema='dbo']",
                "object_type": "StoredProcedure",
                "extensions": {
                    "azuredatastudio": {
                        "views": []
                    }
                },
                "azdata_cell_guid": "1b820d56-a060-41f7-a8da-68c6962e6349"
            },
            "outputs": [],
            "execution_count": null
        },
        {
            "cell_type": "markdown",
            "source": [
                "# [dbo].[studiaTypProceduraFinal]"
            ],
            "metadata": {
                "urn": "Server[@Name='DESKTOP-8FBCEN1\\SQLEXPRESS']/Database[@Name='PraceDyplomowe_BazyDanych']/StoredProcedure[@Name='studiaTypProceduraFinal' and @Schema='dbo']",
                "object_type": "StoredProcedure",
                "extensions": {
                    "azuredatastudio": {
                        "views": []
                    }
                },
                "azdata_cell_guid": "a7440e01-2a9c-474c-942e-62153d8da4c5"
            }
        },
        {
            "cell_type": "code",
            "source": [
                "/****** Object:  StoredProcedure [dbo].[studiaTypProceduraFinal]    Script Date: 26.01.2022 04:25:25 ******/\r\nSET ANSI_NULLS ON\r\n",
                "GO\r\n",
                "SET QUOTED_IDENTIFIER ON\r\n",
                "GO\r\n",
                "CREATE PROCEDURE [dbo].[studiaTypProceduraFinal] @Type nvarchar(30)\r\nAS\r\n\r\nSELECT\r\n\r\ndbo.RodzajStudiow.RodzajStudiow, \r\ndbo.AutorPracy.DataObrony, \r\ndbo.AutorPracy.OcenaZObrony, \r\nCONCAT(Student.Student_imie, ' ',Student.Student_nazwisko) AS Student, \r\nPracaDyplomowa.TematPracy  \r\n\r\nfrom dbo.AutorPracy\r\n\tINNER JOIN dbo.Student \r\n\r\non \r\ndbo.AutorPracy.ID_Student=dbo.Student.ID_Student\r\n\tINNER JOIN dbo.PracaDyplomowa \r\n\r\non dbo.AutorPracy.ID_PracaDyplomowa=dbo.PracaDyplomowa.ID_PracaDyplomowa\r\n\tINNER JOIN dbo.RodzajStudiow \r\n\r\non dbo.RodzajStudiow.ID_RodzajStudiow=dbo.PracaDyplomowa.ID_RodzajStudiow\r\n\r\nWHERE dbo.RodzajStudiow.RodzajStudiow=@Type\r\nGO\r\n"
            ],
            "metadata": {
                "urn": "Server[@Name='DESKTOP-8FBCEN1\\SQLEXPRESS']/Database[@Name='PraceDyplomowe_BazyDanych']/StoredProcedure[@Name='studiaTypProceduraFinal' and @Schema='dbo']",
                "object_type": "StoredProcedure",
                "extensions": {
                    "azuredatastudio": {
                        "views": []
                    }
                },
                "azdata_cell_guid": "56b66091-8b96-44b6-8a85-70b33449f1c4"
            },
            "outputs": [],
            "execution_count": null
        },
        {
            "cell_type": "markdown",
            "source": [
                "# [dbo].[uspGetAddress]"
            ],
            "metadata": {
                "urn": "Server[@Name='DESKTOP-8FBCEN1\\SQLEXPRESS']/Database[@Name='PraceDyplomowe_BazyDanych']/StoredProcedure[@Name='uspGetAddress' and @Schema='dbo']",
                "object_type": "StoredProcedure",
                "extensions": {
                    "azuredatastudio": {
                        "views": []
                    }
                },
                "azdata_cell_guid": "037a5879-f7ea-4bd0-9c65-434e493fff9d"
            }
        },
        {
            "cell_type": "code",
            "source": [
                "/****** Object:  StoredProcedure [dbo].[uspGetAddress]    Script Date: 26.01.2022 04:25:25 ******/\r\nSET ANSI_NULLS ON\r\n",
                "GO\r\n",
                "SET QUOTED_IDENTIFIER ON\r\n",
                "GO\r\n",
                "CREATE PROCEDURE [dbo].[uspGetAddress]\r\nAS\r\nSELECT * FROM Person.Address\r\nGO\r\n"
            ],
            "metadata": {
                "urn": "Server[@Name='DESKTOP-8FBCEN1\\SQLEXPRESS']/Database[@Name='PraceDyplomowe_BazyDanych']/StoredProcedure[@Name='uspGetAddress' and @Schema='dbo']",
                "object_type": "StoredProcedure",
                "extensions": {
                    "azuredatastudio": {
                        "views": []
                    }
                },
                "azdata_cell_guid": "c04380a6-d154-4c8f-b186-976c9b2f4d02"
            },
            "outputs": [],
            "execution_count": null
        },
        {
            "cell_type": "markdown",
            "source": [
                "# [PraceDyplomowe_BazyDanych]"
            ],
            "metadata": {
                "urn": "Server[@Name='DESKTOP-8FBCEN1\\SQLEXPRESS']/Database[@Name='PraceDyplomowe_BazyDanych']",
                "object_type": "Database",
                "extensions": {
                    "azuredatastudio": {
                        "views": []
                    }
                },
                "azdata_cell_guid": "6a481a64-aad1-4c05-a208-ef960bb52a88"
            }
        },
        {
            "cell_type": "code",
            "source": [
                "USE [master]\r\n",
                "GO\r\n"
            ],
            "metadata": {
                "urn": "Server[@Name='DESKTOP-8FBCEN1\\SQLEXPRESS']/Database[@Name='PraceDyplomowe_BazyDanych']",
                "object_type": "Database",
                "extensions": {
                    "azuredatastudio": {
                        "views": []
                    }
                },
                "azdata_cell_guid": "95ab9683-e7c2-4454-9866-fc32a031847e"
            },
            "outputs": [],
            "execution_count": null
        },
        {
            "cell_type": "code",
            "source": [
                "ALTER DATABASE [PraceDyplomowe_BazyDanych] SET  READ_WRITE \r\n",
                "GO\r\n"
            ],
            "metadata": {
                "urn": "Server[@Name='DESKTOP-8FBCEN1\\SQLEXPRESS']/Database[@Name='PraceDyplomowe_BazyDanych']",
                "object_type": "Database",
                "extensions": {
                    "azuredatastudio": {
                        "views": []
                    }
                },
                "azdata_cell_guid": "6d75d626-b681-4728-8200-864930086b27"
            },
            "outputs": [],
            "execution_count": null
        },
        {
            "cell_type": "code",
            "source": [
                "-- Uzyskanie informacji (imię, nazwisko, nr indeksu) na temat wszystkich\r\n",
                "-- studentów uporządkowanych w kolejności alfabetycznej wg nazwiska\r\n",
                "\r\n",
                "\t\r\n",
                "SELECT \r\n",
                "\r\n",
                "CONCAT(Student.Student_imie,' ', student.Student_nazwisko) AS Student,   Student.Student_numer_indeksu\r\n",
                "\r\n",
                "FROM Student\r\n",
                "\r\n",
                "ORDER BY Student.Student_nazwisko\r\n",
                ""
            ],
            "metadata": {
                "azdata_cell_guid": "f04fd0d8-78f7-4293-a137-e17c2e022189"
            },
            "outputs": [],
            "execution_count": null
        },
        {
            "cell_type": "code",
            "source": [
                "----Informacje na temat wszystkich pracowników (tytuł, imię, nazwisko) uporządkowane w kolejności alfabetycznej nazwiska\r\n",
                "\r\n",
                "\t\r\n",
                "SELECT \r\n",
                "CONCAT(Student_imie,' ', Student_nazwisko) AS Student, ID_Student \r\n",
                "\r\n",
                "FROM dbo.Student\r\n",
                "\r\n",
                "ORDER BY Student_Nazwisko ASC\r\n",
                ""
            ],
            "metadata": {
                "azdata_cell_guid": "39162e38-5cb7-4183-829d-61bb8c691044"
            },
            "outputs": [],
            "execution_count": null
        },
        {
            "cell_type": "code",
            "source": [
                "--Uzyskanie listy wszystkich prowadzonych lub obronionych prac dyplomowych (temat pracy) uporządkowane według tematu.\r\n",
                "\t\r\n",
                "\r\n",
                "SELECT dbo.PracaDyplomowa.TematPracy \r\n",
                "\r\n",
                "FROM dbo.PracaDyplomowa\r\n",
                "\t\r\n",
                "ORDER BY dbo.PracaDyplomowa.TematPracy\r\n",
                ""
            ],
            "metadata": {
                "azdata_cell_guid": "48ace2ed-8a9d-4426-9866-81d7850f7323"
            },
            "outputs": [],
            "execution_count": null
        },
        {
            "cell_type": "code",
            "source": [
                "--Uzyskanie informacji o wszystkich pracach uporządkowanych według daty obrony\r\n",
                "\r\n",
                "\t\r\n",
                "\r\n",
                "select dbo.AutorPracy.DataObrony, \r\n",
                "\r\n",
                "CONCAT(Student.Student_imie, ' ',Student.Student_nazwisko) AS Student, PracaDyplomowa.TematPracy  \r\n",
                "\r\n",
                "FROM dbo.AutorPracy\r\n",
                "\tINNER JOIN dbo.Student on dbo.AutorPracy.ID_Student=dbo.Student.ID_Student\r\n",
                "\tINNER JOIN dbo.PracaDyplomowa on dbo.AutorPracy.ID_PracaDyplomowa=dbo.PracaDyplomowa.ID_PracaDyplomowa\r\n",
                "\r\n",
                "WHERE dbo.AutorPracy.DataObrony IS NOT NULL\r\n",
                "ORDER BY dbo.AutorPracy.DataObrony\r\n",
                "\r\n",
                "\r\n",
                ""
            ],
            "metadata": {
                "azdata_cell_guid": "9ceb819d-4b74-449b-a095-4f1d5b17ec19"
            },
            "outputs": [],
            "execution_count": null
        },
        {
            "cell_type": "code",
            "source": [
                "--Uzyskanie informacji o wszystkich pracach uporządkowanych według oceny końcowej i daty obrony\r\n",
                "\r\n",
                "select dbo.AutorPracy.DataObrony, dbo.AutorPracy.OcenaZObrony, \r\n",
                "\r\n",
                "CONCAT(Student.Student_imie, ' ',Student.Student_nazwisko) AS Student, PracaDyplomowa.TematPracy  \r\n",
                "\r\n",
                "FROM dbo.AutorPracy\r\n",
                "\tINNER JOIN dbo.Student on dbo.AutorPracy.ID_Student=dbo.Student.ID_Student\r\n",
                "\tINNER JOIN dbo.PracaDyplomowa on dbo.AutorPracy.ID_PracaDyplomowa=dbo.PracaDyplomowa.ID_PracaDyplomowa\r\n",
                "\r\n",
                "WHERE dbo.AutorPracy.DataObrony IS NOT NULL\r\n",
                "ORDER BY dbo.AutorPracy.DataObrony, dbo.AutorPracy.OcenaZObrony\r\n",
                ""
            ],
            "metadata": {
                "azdata_cell_guid": "4faa8948-e217-4e0e-ad04-051f84354791"
            },
            "outputs": [],
            "execution_count": null
        },
        {
            "cell_type": "code",
            "source": [
                "--Uzyskanie informacji o wszystkich pracach uporządkowanych według rodzaju studiów\r\n",
                "\r\n",
                "SELECT dbo.RodzajStudiow.RodzajStudiow, dbo.AutorPracy.DataObrony, \r\n",
                "dbo.AutorPracy.OcenaZObrony, \r\n",
                "CONCAT(Student.Student_imie, ' ', Student.Student_nazwisko) AS Student, PracaDyplomowa.TematPracy  \r\n",
                "\r\n",
                "FROM dbo.AutorPracy\r\n",
                "\tINNER JOIN dbo.Student \r\n",
                "\r\n",
                "ON \r\n",
                "\r\n",
                "dbo.AutorPracy.ID_Student=dbo.Student.ID_Student\r\n",
                "\tINNER JOIN dbo.PracaDyplomowa \r\n",
                "\r\n",
                "ON dbo.AutorPracy.ID_PracaDyplomowa=dbo.PracaDyplomowa.ID_PracaDyplomowa\r\n",
                "\tINNER JOIN dbo.RodzajStudiow \r\n",
                "\r\n",
                "ON\r\n",
                " dbo.RodzajStudiow.ID_RodzajStudiow=dbo.PracaDyplomowa.ID_RodzajStudiow\r\n",
                "\r\n",
                "WHERE dbo.AutorPracy.DataObrony IS NOT NULL\r\n",
                "\r\n",
                "ORDER BY dbo.AutorPracy.DataObrony, dbo.AutorPracy.OcenaZObrony\r\n",
                "\r\n",
                ""
            ],
            "metadata": {
                "azdata_cell_guid": "9fbaabf6-742f-4964-8985-1c7100ce8524"
            },
            "outputs": [],
            "execution_count": null
        },
        {
            "cell_type": "code",
            "source": [
                "--Uzyskanie informacji o wszystkich pracach prowadzonych na danym, podanym z nazwy, rodzaju studiów\r\n",
                "\r\n",
                "CREATE PROCEDURE dbo.studiaTypProceduraFinal @Type nvarchar(30)\r\n",
                "AS\r\n",
                "\r\n",
                "SELECT\r\n",
                "\r\n",
                "dbo.RodzajStudiow.RodzajStudiow, \r\n",
                "dbo.AutorPracy.DataObrony, \r\n",
                "dbo.AutorPracy.OcenaZObrony, \r\n",
                "CONCAT(Student.Student_imie, ' ',Student.Student_nazwisko) AS Student, \r\n",
                "PracaDyplomowa.TematPracy  \r\n",
                "\r\n",
                "from dbo.AutorPracy\r\n",
                "\tINNER JOIN dbo.Student \r\n",
                "\r\n",
                "on \r\n",
                "dbo.AutorPracy.ID_Student=dbo.Student.ID_Student\r\n",
                "\tINNER JOIN dbo.PracaDyplomowa \r\n",
                "\r\n",
                "on dbo.AutorPracy.ID_PracaDyplomowa=dbo.PracaDyplomowa.ID_PracaDyplomowa\r\n",
                "\r\n",
                "\tINNER JOIN dbo.RodzajStudiow \r\n",
                "\r\n",
                "on dbo.RodzajStudiow.ID_RodzajStudiow=dbo.PracaDyplomowa.ID_RodzajStudiow\r\n",
                "\r\n",
                "WHERE dbo.RodzajStudiow.RodzajStudiow=@Type\r\n",
                "\r\n",
                ""
            ],
            "metadata": {
                "azdata_cell_guid": "a58eefc6-201e-447f-9723-8c935bdbe241"
            },
            "outputs": [],
            "execution_count": null
        },
        {
            "cell_type": "code",
            "source": [
                "--Uzyskanie informacji o wszystkich pracach z danej tematyki (o podanym słowie kluczowym)\r\n",
                "\r\n",
                "select dbo.SlowoKluczowe.SlowoKluczowe, dbo.PracaDyplomowa.TematPracy, dbo.Student.Student_imie, dbo.Student.Student_nazwisko from dbo.SlowoPraca\r\n",
                "    \r\n",
                "INNER JOIN dbo.SlowoKluczowe on dbo.SlowoKluczowe.ID_SlowoKluczowe=dbo.SlowoPraca.ID_SlowoKluczowe\r\n",
                "    INNER JOIN dbo.PracaDyplomowa on dbo.PracaDyplomowa.ID_PracaDyplomowa=dbo.SlowoPraca.ID_PracaDyplomowa\r\n",
                "    INNER JOIN dbo.Student on dbo.PracaDyplomowa.ID_PracaDyplomowa=dbo.SlowoPraca.ID_PracaDyplomowa\r\n",
                "WHERE dbo.SlowoKluczowe.SlowoKluczowe=’Elektronika’\r\n",
                ""
            ],
            "metadata": {
                "azdata_cell_guid": "0c53c689-235f-4efc-9fea-a744bbcdfe03"
            },
            "outputs": [],
            "execution_count": null
        },
        {
            "cell_type": "code",
            "source": [
                "--Uzyskanie listy wszystkich prac z informacją o jej autorach\r\n",
                "\r\n",
                "select PracaDyplomowa.TematPracy, dbo.AutorPracy.DataObrony, \r\n",
                "\r\n",
                "CONCAT(Student.Student_imie, ' ', Student.Student_nazwisko ) AS Student \r\n",
                "\r\n",
                "FROM dbo.AutorPracy\r\n",
                "\tINNER JOIN dbo.Student \r\n",
                "\r\n",
                "ON dbo.AutorPracy.ID_Student=dbo.Student.ID_Student\r\n",
                "\tINNER JOIN dbo.PracaDyplomowa \r\n",
                "\r\n",
                "ON dbo.AutorPracy.ID_PracaDyplomowa=dbo.PracaDyplomowa.ID_PracaDyplomowa\r\n",
                ""
            ],
            "metadata": {
                "azdata_cell_guid": "5c1e05c2-cc50-4710-abd0-27f5b8e28f3d"
            },
            "outputs": [],
            "execution_count": null
        },
        {
            "cell_type": "code",
            "source": [
                "--Uzyskanie listy wszystkich prac z informacją o jej promotorze\r\n",
                "\r\n",
                "Select\r\n",
                " \r\n",
                "CONCAT (PracownikNaukowy.Pracownik_Imie, ' ', PracownikNaukowy.Pracownik_Nazwisko) AS Promotor, \r\n",
                "\r\n",
                "PracaDyplomowa.TematPracy from dbo.Promotor\r\n",
                "\r\n",
                "INNER JOIN dbo.PracownikNaukowy on dbo.Promotor.ID_PracownikNaukowy=dbo.PracownikNaukowy.ID_PracownikNaukowy\r\n",
                "\r\n",
                "INNER JOIN dbo.PracaDyplomowa on dbo.Promotor.ID_Promotor=dbo.PracaDyplomowa.ID_Promotor\r\n",
                ""
            ],
            "metadata": {
                "azdata_cell_guid": "c352fd2c-55fe-491d-9a4f-7c7e38a41477"
            },
            "outputs": [],
            "execution_count": null
        },
        {
            "cell_type": "code",
            "source": [
                "--Uzyskanie listy wszystkich prac z informacją o jej autorach, promotorze, recenzentach i ocenie końcowej\r\n",
                "Select \r\n",
                "\r\n",
                "CONCAT (PracownikNaukowy.Pracownik_Imie, ' ',PracownikNaukowy.Pracownik_Nazwisko) as Promotor, \r\n",
                "PracaDyplomowa.TematPracy, \r\n",
                "\r\n",
                "CONCAT (Student.Student_imie,' ',Student.Student_nazwisko) as Student,\r\n",
                "\r\n",
                "CONCAT (prac.Pracownik_Imie, ' ',prac.Pracownik_Nazwisko) as Recenzet,\r\n",
                "dyplom.OcenaZObrony as OcenaKońcowa\r\n",
                "\r\n",
                "from dbo.PracaDyplomowa\r\n",
                "\r\n",
                "INNER JOIN dbo.Promotor p on PracaDyplomowa.ID_PracaDyplomowa=p.ID_Promotor\r\n",
                "INNER JOIN PracownikNaukowy on p.ID_PracownikNaukowy=PracownikNaukowy.ID_PracownikNaukowy \r\n",
                "\r\n",
                "INNER JOIN dbo.AutorPracy a on PracaDyplomowa.ID_PracaDyplomowa=a.ID_PracaDyplomowa\r\n",
                "INNER JOIN Student on a.ID_Student=Student.ID_Student\r\n",
                "\r\n",
                "INNER JOIN dbo.Recenzent r on PracaDyplomowa.ID_PracaDyplomowa=r.ID_Recenzent\r\n",
                "INNER JOIN PracownikNaukowy prac on r.ID_PracownikNaukowy=prac.ID_PracownikNaukowy \r\n",
                "\r\n",
                "INNER JOIN dbo.AutorPracy dyplom on PracaDyplomowa.ID_PracaDyplomowa=dyplom.ID_PracaDyplomowa\r\n",
                ""
            ],
            "metadata": {
                "azdata_cell_guid": "ef33671c-a42d-4af9-8033-6081a5ddb233"
            },
            "outputs": [],
            "execution_count": null
        },
        {
            "cell_type": "code",
            "source": [
                "--Uzyskanie informacji o pracy dyplomowej określonego studenta po podaniu jego nazwisk\r\n",
                "Select \r\n",
                "CONCAT(Student.Student_imie,' ', Student.Student_nazwisko)AS Student,\r\n",
                "CONCAT(PracownikNaukowy.Pracownik_Imie, ' ', PracownikNaukowy.Pracownik_Nazwisko) AS Promotor, \r\n",
                "PracaDyplomowa.TematPracy \r\n",
                "\r\n",
                "from dbo.PracaDyplomowa\r\n",
                "\r\n",
                "INNER JOIN dbo.Promotor p on PracaDyplomowa.ID_PracaDyplomowa=p.ID_Promotor\r\n",
                "INNER JOIN PracownikNaukowy on p.ID_PracownikNaukowy=PracownikNaukowy.ID_PracownikNaukowy \r\n",
                "\r\n",
                "INNER JOIN dbo.AutorPracy a on PracaDyplomowa.ID_PracaDyplomowa=a.ID_PracaDyplomowa\r\n",
                "INNER JOIN Student on a.ID_Student=Student.ID_Student\r\n",
                "\r\n",
                "WHERE dbo.Student.Student_nazwisko='Lempart'\r\n",
                ""
            ],
            "metadata": {
                "azdata_cell_guid": "c8f34c15-c50f-4f93-b520-462dd2cc34af"
            },
            "outputs": [],
            "execution_count": null
        },
        {
            "cell_type": "code",
            "source": [
                "--Uzyskanie informacji o wszystkich pracach prowadzonych przez podanego z nazwiska promotora\r\n",
                "Select \r\n",
                "CONCAT (PracownikNaukowy.Pracownik_Imie, ' ', PracownikNaukowy.Pracownik_Nazwisko) AS Promotor, \r\n",
                "PracaDyplomowa.TematPracy, \r\n",
                "CONCAT (Student.Student_imie,' ',Student.Student_nazwisko) AS Student\r\n",
                "from dbo.PracaDyplomowa\r\n",
                "\r\n",
                "INNER JOIN dbo.Promotor p on PracaDyplomowa.ID_PracaDyplomowa=p.ID_Promotor\r\n",
                "INNER JOIN PracownikNaukowy on p.ID_PracownikNaukowy=PracownikNaukowy.ID_PracownikNaukowy \r\n",
                "\r\n",
                "INNER JOIN dbo.AutorPracy a on PracaDyplomowa.ID_PracaDyplomowa=a.ID_PracaDyplomowa\r\n",
                "INNER JOIN Student on a.ID_Student=Student.ID_Student\r\n",
                "\r\n",
                "WHERE dbo.PracownikNaukowy.Pracownik_Nazwisko = 'Kowalski'\r\n",
                ""
            ],
            "metadata": {
                "azdata_cell_guid": "950dd436-7b8d-42a8-a76b-1c34410efc8c"
            },
            "outputs": [],
            "execution_count": null
        },
        {
            "cell_type": "code",
            "source": [
                "--Uzyskanie informacji o wszystkich pracach obronionych na studiach magisterskich w podanym dniu\r\n",
                "\r\n",
                "Select \r\n",
                "PracaDyplomowa.TematPracy\r\n",
                "\r\n",
                "from dbo.PracaDyplomowa\r\n",
                "\r\n",
                "INNER JOIN dbo.RodzajStudiow r on PracaDyplomowa.ID_RodzajStudiow=r.ID_RodzajStudiow\r\n",
                "INNER JOIN dbo.AutorPracy a on PracaDyplomowa.ID_PracaDyplomowa = a.ID_PracaDyplomowa\r\n",
                "\r\n",
                "\r\n",
                "WHERE  (r.RodzajStudiow= 'Inżynierskie') AND (a.DataObrony='2022-01-25')\r\n",
                ""
            ],
            "metadata": {
                "azdata_cell_guid": "b87fadc0-f889-4587-a3b5-000cdab8b0b5"
            },
            "outputs": [],
            "execution_count": null
        },
        {
            "cell_type": "code",
            "source": [
                "--Uzyskanie listy studentów, którzy nie obronili pracy dyplomowej, z podaniem tematu tej pracy\r\n",
                "\r\n",
                "Select \r\n",
                "PracaDyplomowa.TematPracy,\r\n",
                "CONCAT(Student.Student_imie,' ' Student.Student_nazwisko) AS Student\r\n",
                "\r\n",
                "from dbo.PracaDyplomowa\r\n",
                "\r\n",
                "INNER JOIN dbo.AutorPracy au on PracaDyplomowa.ID_PracaDyplomowa =au.ID_PracaDyplomowa\r\n",
                "\r\n",
                "INNER JOIN dbo.AutorPracy a on PracaDyplomowa.ID_PracaDyplomowa=a.ID_PracaDyplomowa\r\n",
                "INNER JOIN Student on a.ID_Student=Student.ID_Student\r\n",
                "\r\n",
                "WHERE au.DataObrony IS NULL\r\n",
                "\r\n",
                ""
            ],
            "metadata": {
                "azdata_cell_guid": "3245e77c-dd23-4115-97e8-e6c94962d133"
            },
            "outputs": [],
            "execution_count": null
        }
    ]
}